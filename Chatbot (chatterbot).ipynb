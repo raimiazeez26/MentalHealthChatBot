{
 "cells": [
  {
   "cell_type": "markdown",
   "metadata": {},
   "source": [
    "# ChatBot Using `ChatterBot`"
   ]
  },
  {
   "cell_type": "markdown",
   "metadata": {},
   "source": [
    "### What is a ChatBot ?\n",
    "\n",
    "A chatbot is an intelligent piece of software that is capable of communicating and performing actions similar to a human. Chatbots are used a lot in customer interaction, marketing on social network sites and instantly messaging the client. \n",
    "\n",
    "### Objective\n",
    "* Build a simple chat bot.\n",
    "* Build a GUI for interaction\n",
    "* Further develop and train the bot with real data"
   ]
  },
  {
   "cell_type": "markdown",
   "metadata": {},
   "source": [
    "### Installing `ChatterBot`"
   ]
  },
  {
   "cell_type": "code",
   "execution_count": 13,
   "metadata": {
    "collapsed": true
   },
   "outputs": [
    {
     "name": "stdout",
     "output_type": "stream",
     "text": [
      "Collecting git+git://github.com/gunthercox/ChatterBot.git@master\n",
      "  Cloning git://github.com/gunthercox/ChatterBot.git (to revision master) to /private/var/folders/xm/5ck74w0n1dxfrhfr9xhclj7c0000gn/T/pip-req-build-u75k5kqi\n",
      "  Running command git clone -q git://github.com/gunthercox/ChatterBot.git /private/var/folders/xm/5ck74w0n1dxfrhfr9xhclj7c0000gn/T/pip-req-build-u75k5kqi\n",
      "Collecting git+git://github.com/gunthercox/ChatterBot.git@master\n",
      "  Cloning git://github.com/gunthercox/ChatterBot.git (to revision master) to /private/var/folders/xm/5ck74w0n1dxfrhfr9xhclj7c0000gn/T/pip-req-build-u75k5kqi\n",
      "  Running command git clone -q git://github.com/gunthercox/ChatterBot.git /private/var/folders/xm/5ck74w0n1dxfrhfr9xhclj7c0000gn/T/pip-req-build-u75k5kqi\n",
      "Collecting git+git://github.com/gunthercox/ChatterBot.git@master\n",
      "  Cloning git://github.com/gunthercox/ChatterBot.git (to revision master) to /private/var/folders/xm/5ck74w0n1dxfrhfr9xhclj7c0000gn/T/pip-req-build-u75k5kqi\n",
      "  Running command git clone -q git://github.com/gunthercox/ChatterBot.git /private/var/folders/xm/5ck74w0n1dxfrhfr9xhclj7c0000gn/T/pip-req-build-u75k5kqi\n",
      "  Resolved git://github.com/gunthercox/ChatterBot.git to commit 4ff8af28567ed446ae796d37c246bb6a14032fe7\n",
      "  Resolved git://github.com/gunthercox/ChatterBot.git to commit 4ff8af28567ed446ae796d37c246bb6a14032fe7\n",
      "  Resolved git://github.com/gunthercox/ChatterBot.git to commit 4ff8af28567ed446ae796d37c246bb6a14032fe7\n",
      "Requirement already satisfied: mathparse<0.2,>=0.1 in /Users/user/opt/anaconda3/lib/python3.7/site-packages (from ChatterBot==1.1.0a7) (0.1.2)\n",
      "Requirement already satisfied: python-dateutil<2.9,>=2.8 in /Users/user/opt/anaconda3/lib/python3.7/site-packages (from ChatterBot==1.1.0a7) (2.8.0)\n",
      "Requirement already satisfied: sqlalchemy<1.4,>=1.3 in /Users/user/opt/anaconda3/lib/python3.7/site-packages (from ChatterBot==1.1.0a7) (1.3.9)\n",
      "Requirement already satisfied: pytz in /Users/user/opt/anaconda3/lib/python3.7/site-packages (from ChatterBot==1.1.0a7) (2019.3)\n",
      "Requirement already satisfied: mathparse<0.2,>=0.1 in /Users/user/opt/anaconda3/lib/python3.7/site-packages (from ChatterBot==1.1.0a7) (0.1.2)\n",
      "Requirement already satisfied: python-dateutil<2.9,>=2.8 in /Users/user/opt/anaconda3/lib/python3.7/site-packages (from ChatterBot==1.1.0a7) (2.8.0)\n",
      "Requirement already satisfied: sqlalchemy<1.4,>=1.3 in /Users/user/opt/anaconda3/lib/python3.7/site-packages (from ChatterBot==1.1.0a7) (1.3.9)\n",
      "Requirement already satisfied: pytz in /Users/user/opt/anaconda3/lib/python3.7/site-packages (from ChatterBot==1.1.0a7) (2019.3)\n",
      "Requirement already satisfied: mathparse<0.2,>=0.1 in /Users/user/opt/anaconda3/lib/python3.7/site-packages (from ChatterBot==1.1.0a7) (0.1.2)\n",
      "Requirement already satisfied: python-dateutil<2.9,>=2.8 in /Users/user/opt/anaconda3/lib/python3.7/site-packages (from ChatterBot==1.1.0a7) (2.8.0)\n",
      "Requirement already satisfied: sqlalchemy<1.4,>=1.3 in /Users/user/opt/anaconda3/lib/python3.7/site-packages (from ChatterBot==1.1.0a7) (1.3.9)\n",
      "Requirement already satisfied: pytz in /Users/user/opt/anaconda3/lib/python3.7/site-packages (from ChatterBot==1.1.0a7) (2019.3)\n",
      "Requirement already satisfied: six>=1.5 in /Users/user/opt/anaconda3/lib/python3.7/site-packages (from python-dateutil<2.9,>=2.8->ChatterBot==1.1.0a7) (1.12.0)\n",
      "Requirement already satisfied: six>=1.5 in /Users/user/opt/anaconda3/lib/python3.7/site-packages (from python-dateutil<2.9,>=2.8->ChatterBot==1.1.0a7) (1.12.0)\n",
      "Requirement already satisfied: six>=1.5 in /Users/user/opt/anaconda3/lib/python3.7/site-packages (from python-dateutil<2.9,>=2.8->ChatterBot==1.1.0a7) (1.12.0)\n",
      "Note: you may need to restart the kernel to use updated packages.\n",
      "Note: you may need to restart the kernel to use updated packages.\n",
      "Note: you may need to restart the kernel to use updated packages.\n"
     ]
    }
   ],
   "source": [
    "#pip install git+git://github.com/gunthercox/ChatterBot.git@master"
   ]
  },
  {
   "cell_type": "code",
   "execution_count": 14,
   "metadata": {
    "collapsed": true
   },
   "outputs": [
    {
     "name": "stdout",
     "output_type": "stream",
     "text": [
      "Collecting chatterbot_corpus\n",
      "Collecting chatterbot_corpus\n",
      "Collecting chatterbot_corpus\n",
      "  Using cached chatterbot_corpus-1.2.0-py2.py3-none-any.whl (117 kB)\n",
      "  Using cached chatterbot_corpus-1.2.0-py2.py3-none-any.whl (117 kB)\n",
      "  Using cached chatterbot_corpus-1.2.0-py2.py3-none-any.whl (117 kB)\n",
      "Collecting PyYAML<4.0,>=3.12\n",
      "  Using cached PyYAML-3.13-cp37-cp37m-macosx_10_9_x86_64.whl\n",
      "Collecting PyYAML<4.0,>=3.12\n",
      "  Using cached PyYAML-3.13-cp37-cp37m-macosx_10_9_x86_64.whl\n",
      "Collecting PyYAML<4.0,>=3.12\n",
      "  Using cached PyYAML-3.13-cp37-cp37m-macosx_10_9_x86_64.whl\n",
      "Installing collected packages: PyYAML, chatterbot-corpus\n",
      "  Attempting uninstall: PyYAML\n",
      "    Found existing installation: PyYAML 5.1.2\n",
      "\u001b[31mERROR: Cannot uninstall 'PyYAML'. It is a distutils installed project and thus we cannot accurately determine which files belong to it which would lead to only a partial uninstall.\u001b[0m\n",
      "Installing collected packages: PyYAML, chatterbot-corpus\n",
      "  Attempting uninstall: PyYAML\n",
      "    Found existing installation: PyYAML 5.1.2\n",
      "\u001b[31mERROR: Cannot uninstall 'PyYAML'. It is a distutils installed project and thus we cannot accurately determine which files belong to it which would lead to only a partial uninstall.\u001b[0m\n",
      "Installing collected packages: PyYAML, chatterbot-corpus\n",
      "  Attempting uninstall: PyYAML\n",
      "    Found existing installation: PyYAML 5.1.2\n",
      "\u001b[31mERROR: Cannot uninstall 'PyYAML'. It is a distutils installed project and thus we cannot accurately determine which files belong to it which would lead to only a partial uninstall.\u001b[0m\n",
      "Note: you may need to restart the kernel to use updated packages.\n",
      "Note: you may need to restart the kernel to use updated packages.\n",
      "Note: you may need to restart the kernel to use updated packages.\n"
     ]
    }
   ],
   "source": [
    "#pip install chatterbot_corpus"
   ]
  },
  {
   "cell_type": "code",
   "execution_count": 5,
   "metadata": {
    "collapsed": true
   },
   "outputs": [
    {
     "name": "stdout",
     "output_type": "stream",
     "text": [
      "Requirement already satisfied: chatterbot in /Users/user/opt/anaconda3/lib/python3.7/site-packages (1.1.0a7)\n",
      "Requirement already satisfied: chatterbot in /Users/user/opt/anaconda3/lib/python3.7/site-packages (1.1.0a7)\n",
      "Requirement already satisfied: python-dateutil<2.9,>=2.8 in /Users/user/opt/anaconda3/lib/python3.7/site-packages (from chatterbot) (2.8.0)\n",
      "Requirement already satisfied: sqlalchemy<1.4,>=1.3 in /Users/user/opt/anaconda3/lib/python3.7/site-packages (from chatterbot) (1.3.9)\n",
      "Requirement already satisfied: mathparse<0.2,>=0.1 in /Users/user/opt/anaconda3/lib/python3.7/site-packages (from chatterbot) (0.1.2)\n",
      "Requirement already satisfied: pytz in /Users/user/opt/anaconda3/lib/python3.7/site-packages (from chatterbot) (2019.3)\n",
      "Requirement already satisfied: six>=1.5 in /Users/user/opt/anaconda3/lib/python3.7/site-packages (from python-dateutil<2.9,>=2.8->chatterbot) (1.12.0)\n",
      "Requirement already satisfied: python-dateutil<2.9,>=2.8 in /Users/user/opt/anaconda3/lib/python3.7/site-packages (from chatterbot) (2.8.0)\n",
      "Requirement already satisfied: sqlalchemy<1.4,>=1.3 in /Users/user/opt/anaconda3/lib/python3.7/site-packages (from chatterbot) (1.3.9)\n",
      "Requirement already satisfied: mathparse<0.2,>=0.1 in /Users/user/opt/anaconda3/lib/python3.7/site-packages (from chatterbot) (0.1.2)\n",
      "Requirement already satisfied: pytz in /Users/user/opt/anaconda3/lib/python3.7/site-packages (from chatterbot) (2019.3)\n",
      "Requirement already satisfied: six>=1.5 in /Users/user/opt/anaconda3/lib/python3.7/site-packages (from python-dateutil<2.9,>=2.8->chatterbot) (1.12.0)\n",
      "Note: you may need to restart the kernel to use updated packages.\n",
      "Note: you may need to restart the kernel to use updated packages.\n"
     ]
    }
   ],
   "source": [
    "#pip install chatterbot --upgrade"
   ]
  },
  {
   "cell_type": "code",
   "execution_count": 15,
   "metadata": {
    "collapsed": true
   },
   "outputs": [
    {
     "name": "stdout",
     "output_type": "stream",
     "text": [
      "Requirement already satisfied: spacy in /Users/user/opt/anaconda3/lib/python3.7/site-packages (3.1.2)\n",
      "Requirement already satisfied: spacy in /Users/user/opt/anaconda3/lib/python3.7/site-packages (3.1.2)\n",
      "Requirement already satisfied: spacy in /Users/user/opt/anaconda3/lib/python3.7/site-packages (3.1.2)\n",
      "Requirement already satisfied: setuptools in /Users/user/opt/anaconda3/lib/python3.7/site-packages (from spacy) (41.4.0)\n",
      "Requirement already satisfied: thinc<8.1.0,>=8.0.8 in /Users/user/opt/anaconda3/lib/python3.7/site-packages (from spacy) (8.0.8)\n",
      "Requirement already satisfied: typer<0.4.0,>=0.3.0 in /Users/user/opt/anaconda3/lib/python3.7/site-packages (from spacy) (0.3.2)\n",
      "Requirement already satisfied: wasabi<1.1.0,>=0.8.1 in /Users/user/opt/anaconda3/lib/python3.7/site-packages (from spacy) (0.8.2)\n",
      "Requirement already satisfied: cymem<2.1.0,>=2.0.2 in /Users/user/opt/anaconda3/lib/python3.7/site-packages (from spacy) (2.0.5)\n",
      "Requirement already satisfied: packaging>=20.0 in /Users/user/opt/anaconda3/lib/python3.7/site-packages (from spacy) (21.0)\n",
      "Requirement already satisfied: requests<3.0.0,>=2.13.0 in /Users/user/opt/anaconda3/lib/python3.7/site-packages (from spacy) (2.22.0)\n",
      "Requirement already satisfied: spacy-legacy<3.1.0,>=3.0.7 in /Users/user/opt/anaconda3/lib/python3.7/site-packages (from spacy) (3.0.8)\n",
      "Requirement already satisfied: srsly<3.0.0,>=2.4.1 in /Users/user/opt/anaconda3/lib/python3.7/site-packages (from spacy) (2.4.1)\n",
      "Requirement already satisfied: typing-extensions<4.0.0.0,>=3.7.4 in /Users/user/opt/anaconda3/lib/python3.7/site-packages (from spacy) (3.10.0.2)\n",
      "Requirement already satisfied: catalogue<2.1.0,>=2.0.4 in /Users/user/opt/anaconda3/lib/python3.7/site-packages (from spacy) (2.0.6)\n",
      "Requirement already satisfied: tqdm<5.0.0,>=4.38.0 in /Users/user/opt/anaconda3/lib/python3.7/site-packages (from spacy) (4.62.2)\n",
      "Requirement already satisfied: pydantic!=1.8,!=1.8.1,<1.9.0,>=1.7.4 in /Users/user/opt/anaconda3/lib/python3.7/site-packages (from spacy) (1.8.2)\n",
      "Requirement already satisfied: setuptools in /Users/user/opt/anaconda3/lib/python3.7/site-packages (from spacy) (41.4.0)\n",
      "Requirement already satisfied: thinc<8.1.0,>=8.0.8 in /Users/user/opt/anaconda3/lib/python3.7/site-packages (from spacy) (8.0.8)\n",
      "Requirement already satisfied: typer<0.4.0,>=0.3.0 in /Users/user/opt/anaconda3/lib/python3.7/site-packages (from spacy) (0.3.2)\n",
      "Requirement already satisfied: wasabi<1.1.0,>=0.8.1 in /Users/user/opt/anaconda3/lib/python3.7/site-packages (from spacy) (0.8.2)\n",
      "Requirement already satisfied: cymem<2.1.0,>=2.0.2 in /Users/user/opt/anaconda3/lib/python3.7/site-packages (from spacy) (2.0.5)\n",
      "Requirement already satisfied: packaging>=20.0 in /Users/user/opt/anaconda3/lib/python3.7/site-packages (from spacy) (21.0)\n",
      "Requirement already satisfied: requests<3.0.0,>=2.13.0 in /Users/user/opt/anaconda3/lib/python3.7/site-packages (from spacy) (2.22.0)\n",
      "Requirement already satisfied: spacy-legacy<3.1.0,>=3.0.7 in /Users/user/opt/anaconda3/lib/python3.7/site-packages (from spacy) (3.0.8)\n",
      "Requirement already satisfied: srsly<3.0.0,>=2.4.1 in /Users/user/opt/anaconda3/lib/python3.7/site-packages (from spacy) (2.4.1)\n",
      "Requirement already satisfied: typing-extensions<4.0.0.0,>=3.7.4 in /Users/user/opt/anaconda3/lib/python3.7/site-packages (from spacy) (3.10.0.2)\n",
      "Requirement already satisfied: catalogue<2.1.0,>=2.0.4 in /Users/user/opt/anaconda3/lib/python3.7/site-packages (from spacy) (2.0.6)\n",
      "Requirement already satisfied: tqdm<5.0.0,>=4.38.0 in /Users/user/opt/anaconda3/lib/python3.7/site-packages (from spacy) (4.62.2)\n",
      "Requirement already satisfied: pydantic!=1.8,!=1.8.1,<1.9.0,>=1.7.4 in /Users/user/opt/anaconda3/lib/python3.7/site-packages (from spacy) (1.8.2)\n",
      "Requirement already satisfied: setuptools in /Users/user/opt/anaconda3/lib/python3.7/site-packages (from spacy) (41.4.0)\n",
      "Requirement already satisfied: thinc<8.1.0,>=8.0.8 in /Users/user/opt/anaconda3/lib/python3.7/site-packages (from spacy) (8.0.8)\n",
      "Requirement already satisfied: typer<0.4.0,>=0.3.0 in /Users/user/opt/anaconda3/lib/python3.7/site-packages (from spacy) (0.3.2)\n",
      "Requirement already satisfied: wasabi<1.1.0,>=0.8.1 in /Users/user/opt/anaconda3/lib/python3.7/site-packages (from spacy) (0.8.2)\n",
      "Requirement already satisfied: cymem<2.1.0,>=2.0.2 in /Users/user/opt/anaconda3/lib/python3.7/site-packages (from spacy) (2.0.5)\n",
      "Requirement already satisfied: packaging>=20.0 in /Users/user/opt/anaconda3/lib/python3.7/site-packages (from spacy) (21.0)\n",
      "Requirement already satisfied: requests<3.0.0,>=2.13.0 in /Users/user/opt/anaconda3/lib/python3.7/site-packages (from spacy) (2.22.0)\n",
      "Requirement already satisfied: spacy-legacy<3.1.0,>=3.0.7 in /Users/user/opt/anaconda3/lib/python3.7/site-packages (from spacy) (3.0.8)\n",
      "Requirement already satisfied: srsly<3.0.0,>=2.4.1 in /Users/user/opt/anaconda3/lib/python3.7/site-packages (from spacy) (2.4.1)\n",
      "Requirement already satisfied: typing-extensions<4.0.0.0,>=3.7.4 in /Users/user/opt/anaconda3/lib/python3.7/site-packages (from spacy) (3.10.0.2)\n",
      "Requirement already satisfied: catalogue<2.1.0,>=2.0.4 in /Users/user/opt/anaconda3/lib/python3.7/site-packages (from spacy) (2.0.6)\n",
      "Requirement already satisfied: tqdm<5.0.0,>=4.38.0 in /Users/user/opt/anaconda3/lib/python3.7/site-packages (from spacy) (4.62.2)\n",
      "Requirement already satisfied: pydantic!=1.8,!=1.8.1,<1.9.0,>=1.7.4 in /Users/user/opt/anaconda3/lib/python3.7/site-packages (from spacy) (1.8.2)\n",
      "Requirement already satisfied: jinja2 in /Users/user/opt/anaconda3/lib/python3.7/site-packages (from spacy) (2.10.3)\n",
      "Requirement already satisfied: murmurhash<1.1.0,>=0.28.0 in /Users/user/opt/anaconda3/lib/python3.7/site-packages (from spacy) (1.0.5)\n",
      "Requirement already satisfied: blis<0.8.0,>=0.4.0 in /Users/user/opt/anaconda3/lib/python3.7/site-packages (from spacy) (0.7.4)\n",
      "Requirement already satisfied: pathy>=0.3.5 in /Users/user/opt/anaconda3/lib/python3.7/site-packages (from spacy) (0.6.0)\n",
      "Requirement already satisfied: numpy>=1.15.0 in /Users/user/opt/anaconda3/lib/python3.7/site-packages (from spacy) (1.17.2)\n",
      "Requirement already satisfied: preshed<3.1.0,>=3.0.2 in /Users/user/opt/anaconda3/lib/python3.7/site-packages (from spacy) (3.0.5)\n",
      "Requirement already satisfied: zipp>=0.5 in /Users/user/opt/anaconda3/lib/python3.7/site-packages (from catalogue<2.1.0,>=2.0.4->spacy) (0.6.0)\n",
      "Requirement already satisfied: jinja2 in /Users/user/opt/anaconda3/lib/python3.7/site-packages (from spacy) (2.10.3)\n",
      "Requirement already satisfied: murmurhash<1.1.0,>=0.28.0 in /Users/user/opt/anaconda3/lib/python3.7/site-packages (from spacy) (1.0.5)\n",
      "Requirement already satisfied: blis<0.8.0,>=0.4.0 in /Users/user/opt/anaconda3/lib/python3.7/site-packages (from spacy) (0.7.4)\n",
      "Requirement already satisfied: pathy>=0.3.5 in /Users/user/opt/anaconda3/lib/python3.7/site-packages (from spacy) (0.6.0)\n",
      "Requirement already satisfied: numpy>=1.15.0 in /Users/user/opt/anaconda3/lib/python3.7/site-packages (from spacy) (1.17.2)\n",
      "Requirement already satisfied: preshed<3.1.0,>=3.0.2 in /Users/user/opt/anaconda3/lib/python3.7/site-packages (from spacy) (3.0.5)\n",
      "Requirement already satisfied: zipp>=0.5 in /Users/user/opt/anaconda3/lib/python3.7/site-packages (from catalogue<2.1.0,>=2.0.4->spacy) (0.6.0)\n",
      "Requirement already satisfied: jinja2 in /Users/user/opt/anaconda3/lib/python3.7/site-packages (from spacy) (2.10.3)\n",
      "Requirement already satisfied: murmurhash<1.1.0,>=0.28.0 in /Users/user/opt/anaconda3/lib/python3.7/site-packages (from spacy) (1.0.5)\n",
      "Requirement already satisfied: blis<0.8.0,>=0.4.0 in /Users/user/opt/anaconda3/lib/python3.7/site-packages (from spacy) (0.7.4)\n",
      "Requirement already satisfied: pathy>=0.3.5 in /Users/user/opt/anaconda3/lib/python3.7/site-packages (from spacy) (0.6.0)\n",
      "Requirement already satisfied: numpy>=1.15.0 in /Users/user/opt/anaconda3/lib/python3.7/site-packages (from spacy) (1.17.2)\n",
      "Requirement already satisfied: preshed<3.1.0,>=3.0.2 in /Users/user/opt/anaconda3/lib/python3.7/site-packages (from spacy) (3.0.5)\n",
      "Requirement already satisfied: zipp>=0.5 in /Users/user/opt/anaconda3/lib/python3.7/site-packages (from catalogue<2.1.0,>=2.0.4->spacy) (0.6.0)\n",
      "Requirement already satisfied: pyparsing>=2.0.2 in /Users/user/opt/anaconda3/lib/python3.7/site-packages (from packaging>=20.0->spacy) (2.4.2)\n"
     ]
    },
    {
     "name": "stdout",
     "output_type": "stream",
     "text": [
      "Requirement already satisfied: pyparsing>=2.0.2 in /Users/user/opt/anaconda3/lib/python3.7/site-packages (from packaging>=20.0->spacy) (2.4.2)\n",
      "Requirement already satisfied: pyparsing>=2.0.2 in /Users/user/opt/anaconda3/lib/python3.7/site-packages (from packaging>=20.0->spacy) (2.4.2)\n",
      "Requirement already satisfied: smart-open<6.0.0,>=5.0.0 in /Users/user/opt/anaconda3/lib/python3.7/site-packages (from pathy>=0.3.5->spacy) (5.2.1)\n",
      "Requirement already satisfied: smart-open<6.0.0,>=5.0.0 in /Users/user/opt/anaconda3/lib/python3.7/site-packages (from pathy>=0.3.5->spacy) (5.2.1)\n",
      "Requirement already satisfied: smart-open<6.0.0,>=5.0.0 in /Users/user/opt/anaconda3/lib/python3.7/site-packages (from pathy>=0.3.5->spacy) (5.2.1)\n",
      "Requirement already satisfied: certifi>=2017.4.17 in /Users/user/opt/anaconda3/lib/python3.7/site-packages (from requests<3.0.0,>=2.13.0->spacy) (2019.9.11)\n",
      "Requirement already satisfied: idna<2.9,>=2.5 in /Users/user/opt/anaconda3/lib/python3.7/site-packages (from requests<3.0.0,>=2.13.0->spacy) (2.8)\n",
      "Requirement already satisfied: urllib3!=1.25.0,!=1.25.1,<1.26,>=1.21.1 in /Users/user/opt/anaconda3/lib/python3.7/site-packages (from requests<3.0.0,>=2.13.0->spacy) (1.24.2)\n",
      "Requirement already satisfied: chardet<3.1.0,>=3.0.2 in /Users/user/opt/anaconda3/lib/python3.7/site-packages (from requests<3.0.0,>=2.13.0->spacy) (3.0.4)\n",
      "Requirement already satisfied: certifi>=2017.4.17 in /Users/user/opt/anaconda3/lib/python3.7/site-packages (from requests<3.0.0,>=2.13.0->spacy) (2019.9.11)\n",
      "Requirement already satisfied: idna<2.9,>=2.5 in /Users/user/opt/anaconda3/lib/python3.7/site-packages (from requests<3.0.0,>=2.13.0->spacy) (2.8)\n",
      "Requirement already satisfied: urllib3!=1.25.0,!=1.25.1,<1.26,>=1.21.1 in /Users/user/opt/anaconda3/lib/python3.7/site-packages (from requests<3.0.0,>=2.13.0->spacy) (1.24.2)\n",
      "Requirement already satisfied: chardet<3.1.0,>=3.0.2 in /Users/user/opt/anaconda3/lib/python3.7/site-packages (from requests<3.0.0,>=2.13.0->spacy) (3.0.4)\n",
      "Requirement already satisfied: certifi>=2017.4.17 in /Users/user/opt/anaconda3/lib/python3.7/site-packages (from requests<3.0.0,>=2.13.0->spacy) (2019.9.11)\n",
      "Requirement already satisfied: idna<2.9,>=2.5 in /Users/user/opt/anaconda3/lib/python3.7/site-packages (from requests<3.0.0,>=2.13.0->spacy) (2.8)\n",
      "Requirement already satisfied: urllib3!=1.25.0,!=1.25.1,<1.26,>=1.21.1 in /Users/user/opt/anaconda3/lib/python3.7/site-packages (from requests<3.0.0,>=2.13.0->spacy) (1.24.2)\n",
      "Requirement already satisfied: chardet<3.1.0,>=3.0.2 in /Users/user/opt/anaconda3/lib/python3.7/site-packages (from requests<3.0.0,>=2.13.0->spacy) (3.0.4)\n",
      "Requirement already satisfied: click<7.2.0,>=7.1.1 in /Users/user/opt/anaconda3/lib/python3.7/site-packages (from typer<0.4.0,>=0.3.0->spacy) (7.1.2)\n",
      "Requirement already satisfied: click<7.2.0,>=7.1.1 in /Users/user/opt/anaconda3/lib/python3.7/site-packages (from typer<0.4.0,>=0.3.0->spacy) (7.1.2)\n",
      "Requirement already satisfied: click<7.2.0,>=7.1.1 in /Users/user/opt/anaconda3/lib/python3.7/site-packages (from typer<0.4.0,>=0.3.0->spacy) (7.1.2)\n",
      "Requirement already satisfied: more-itertools in /Users/user/opt/anaconda3/lib/python3.7/site-packages (from zipp>=0.5->catalogue<2.1.0,>=2.0.4->spacy) (7.2.0)\n",
      "Requirement already satisfied: MarkupSafe>=0.23 in /Users/user/opt/anaconda3/lib/python3.7/site-packages (from jinja2->spacy) (1.1.1)\n",
      "Requirement already satisfied: more-itertools in /Users/user/opt/anaconda3/lib/python3.7/site-packages (from zipp>=0.5->catalogue<2.1.0,>=2.0.4->spacy) (7.2.0)\n",
      "Requirement already satisfied: MarkupSafe>=0.23 in /Users/user/opt/anaconda3/lib/python3.7/site-packages (from jinja2->spacy) (1.1.1)\n",
      "Requirement already satisfied: more-itertools in /Users/user/opt/anaconda3/lib/python3.7/site-packages (from zipp>=0.5->catalogue<2.1.0,>=2.0.4->spacy) (7.2.0)\n",
      "Requirement already satisfied: MarkupSafe>=0.23 in /Users/user/opt/anaconda3/lib/python3.7/site-packages (from jinja2->spacy) (1.1.1)\n",
      "Note: you may need to restart the kernel to use updated packages.\n",
      "Note: you may need to restart the kernel to use updated packages.\n",
      "Note: you may need to restart the kernel to use updated packages.\n"
     ]
    }
   ],
   "source": [
    "#pip install spacy"
   ]
  },
  {
   "cell_type": "code",
   "execution_count": 1,
   "metadata": {},
   "outputs": [],
   "source": [
    "#Import Classes\n",
    "\n",
    "from chatterbot import ChatBot\n",
    "from chatterbot.trainers import ListTrainer"
   ]
  },
  {
   "cell_type": "markdown",
   "metadata": {},
   "source": [
    "# Create Bot"
   ]
  },
  {
   "cell_type": "code",
   "execution_count": 4,
   "metadata": {},
   "outputs": [],
   "source": [
    "my_bot = ChatBot(name = \"MH_bot\", read_only = True, \n",
    "                 storage_adapter='chatterbot.storage.SQLStorageAdapter',\n",
    "                 logic_adapters = [\"chatterbot.logic.BestMatch\",\n",
    "                     \"chatterbot.logic.MathematicalEvaluation\"],\n",
    "                 database_uri='sqlite:///database.sqlite3')\n",
    "                                    \n",
    "    #\"chatterbot.logic.TimeLogicAdapter\"\n",
    "    #{\"import_path\": \"chatterbot.logic.BestMatch\",\n",
    "            #\"statement_comparison_function\": chatterbot.comparisons.LevenshteinDistance,\n",
    "            #\"response_selection_method\": chatterbot.response_selection.get_first_response},\n",
    "\n"
   ]
  },
  {
   "cell_type": "markdown",
   "metadata": {},
   "source": [
    "# Train Bot"
   ]
  },
  {
   "cell_type": "markdown",
   "metadata": {},
   "source": [
    "### Train using `List Trainer`"
   ]
  },
  {
   "cell_type": "code",
   "execution_count": 83,
   "metadata": {},
   "outputs": [
    {
     "name": "stdout",
     "output_type": "stream",
     "text": [
      "List Trainer: [####################] 100%\n",
      "List Trainer: [####################] 100%\n",
      "List Trainer: [####################] 100%\n"
     ]
    }
   ],
   "source": [
    "\"\"\"small_talk = ['hi there!',\n",
    "              'hi!',\n",
    "              'how do you do?',\n",
    "              'how are you?',\n",
    "              'i\\'m cool.',\n",
    "              'fine, you?',\n",
    "              'always cool.',\n",
    "              'i\\'m ok',\n",
    "              'glad to hear that.',\n",
    "              'i\\'m fine',\n",
    "              'glad to hear that.',\n",
    "              'i feel awesome',\n",
    "              'excellent, glad to hear that.',\n",
    "              'not so good',\n",
    "              'sorry to hear that.',\n",
    "              'what\\'s your name?',\n",
    "              'How are you?',\n",
    "              'I am good.',\n",
    "              'That is good to hear.',\n",
    "              'Thank you',\n",
    "              'You are welcome.',\n",
    "              'i\\'m MHbot. ask me a math question, please.']\n",
    "math_talk_1 = ['pythagorean theorem',\n",
    "               'a squared plus b squared equals c squared.']\n",
    "math_talk_2 = ['law of cosines',\n",
    "               'c**2 = a**2 + b**2 - 2 * a * b * cos(gamma)']\n",
    "\n",
    "list_trainer = ListTrainer(my_bot)\n",
    "for item in (small_talk, math_talk_1, math_talk_2):\n",
    "    list_trainer.train(item)"
   ]
  },
  {
   "cell_type": "markdown",
   "metadata": {},
   "source": [
    "### Train using `Corpus_Trainer`"
   ]
  },
  {
   "cell_type": "code",
   "execution_count": 5,
   "metadata": {},
   "outputs": [],
   "source": [
    "from chatterbot.trainers import ChatterBotCorpusTrainer\n"
   ]
  },
  {
   "cell_type": "code",
   "execution_count": 7,
   "metadata": {
    "scrolled": true
   },
   "outputs": [
    {
     "name": "stdout",
     "output_type": "stream",
     "text": [
      "Training ai.yml: [####################] 100%\n",
      "Training botprofile.yml: [####################] 100%\n",
      "Training computers.yml: [####################] 100%\n",
      "Training conversations.yml: [####################] 100%\n",
      "Training depression.yml: [####################] 100%\n",
      "Training emotion.yml: [####################] 100%\n",
      "Training food.yml: [####################] 100%\n",
      "Training gossip.yml: [####################] 100%\n",
      "Training greetings.yml: [####################] 100%\n",
      "Training health.yml: [####################] 100%\n",
      "Training history.yml: [####################] 100%\n",
      "Training humor.yml: [####################] 100%\n",
      "Training literature.yml: [####################] 100%\n",
      "Training money.yml: [####################] 100%\n",
      "Training movies.yml: [####################] 100%\n",
      "Training politics.yml: [####################] 100%\n",
      "Training psychology.yml: [####################] 100%\n",
      "Training science.yml: [####################] 100%\n",
      "Training sports.yml: [####################] 100%\n",
      "Training trivia.yml: [####################] 100%\n",
      "Training ai.yml: [####################] 100%\n",
      "Training botprofile.yml: [####################] 100%\n",
      "Training computers.yml: [####################] 100%\n",
      "Training conversations.yml: [####################] 100%\n",
      "Training depression.yml: [####################] 100%\n",
      "Training emotion.yml: [####################] 100%\n",
      "Training food.yml: [####################] 100%\n",
      "Training gossip.yml: [####################] 100%\n",
      "Training greetings.yml: [####################] 100%\n",
      "Training health.yml: [####################] 100%\n",
      "Training history.yml: [####################] 100%\n",
      "Training humor.yml: [####################] 100%\n",
      "Training literature.yml: [####################] 100%\n",
      "Training money.yml: [####################] 100%\n",
      "Training movies.yml: [####################] 100%\n",
      "Training politics.yml: [####################] 100%\n",
      "Training psychology.yml: [####################] 100%\n",
      "Training science.yml: [####################] 100%\n",
      "Training sports.yml: [####################] 100%\n",
      "Training trivia.yml: [####################] 100%\n",
      "Training ai.yml: [####################] 100%\n",
      "Training botprofile.yml: [####################] 100%\n",
      "Training computers.yml: [####################] 100%\n",
      "Training conversations.yml: [####################] 100%\n",
      "Training depression.yml: [####################] 100%\n",
      "Training emotion.yml: [####################] 100%\n",
      "Training food.yml: [####################] 100%\n",
      "Training gossip.yml: [####################] 100%\n",
      "Training greetings.yml: [####################] 100%\n",
      "Training health.yml: [####################] 100%\n",
      "Training history.yml: [####################] 100%\n",
      "Training humor.yml: [####################] 100%\n",
      "Training literature.yml: [####################] 100%\n",
      "Training money.yml: [####################] 100%\n",
      "Training movies.yml: [####################] 100%\n",
      "Training politics.yml: [####################] 100%\n",
      "Training psychology.yml: [####################] 100%\n",
      "Training science.yml: [####################] 100%\n",
      "Training sports.yml: [####################] 100%\n",
      "Training trivia.yml: [####################] 100%\n",
      "Training ai.yml: [####################] 100%\n",
      "Training botprofile.yml: [####################] 100%\n",
      "Training computers.yml: [####################] 100%\n",
      "Training conversations.yml: [####################] 100%\n",
      "Training depression.yml: [####################] 100%\n",
      "Training emotion.yml: [####################] 100%\n",
      "Training food.yml: [####################] 100%\n",
      "Training gossip.yml: [####################] 100%\n",
      "Training greetings.yml: [####################] 100%\n",
      "Training health.yml: [####################] 100%\n",
      "Training history.yml: [####################] 100%\n",
      "Training humor.yml: [####################] 100%\n",
      "Training literature.yml: [####################] 100%\n",
      "Training money.yml: [####################] 100%\n",
      "Training movies.yml: [####################] 100%\n",
      "Training politics.yml: [####################] 100%\n",
      "Training psychology.yml: [####################] 100%\n",
      "Training science.yml: [####################] 100%\n",
      "Training sports.yml: [####################] 100%\n",
      "Training trivia.yml: [####################] 100%\n",
      "Training ai.yml: [####################] 100%\n",
      "Training botprofile.yml: [####################] 100%\n",
      "Training computers.yml: [####################] 100%\n",
      "Training conversations.yml: [####################] 100%\n",
      "Training depression.yml: [####################] 100%\n",
      "Training emotion.yml: [####################] 100%\n",
      "Training food.yml: [####################] 100%\n",
      "Training gossip.yml: [####################] 100%\n",
      "Training greetings.yml: [####################] 100%\n",
      "Training health.yml: [####################] 100%\n",
      "Training history.yml: [####################] 100%\n",
      "Training humor.yml: [####################] 100%\n",
      "Training literature.yml: [####################] 100%\n",
      "Training money.yml: [####################] 100%\n",
      "Training movies.yml: [####################] 100%\n",
      "Training politics.yml: [####################] 100%\n",
      "Training psychology.yml: [####################] 100%\n",
      "Training science.yml: [####################] 100%\n",
      "Training sports.yml: [####################] 100%\n",
      "Training trivia.yml: [####################] 100%\n"
     ]
    }
   ],
   "source": [
    "#Train using corpus trainer - english\n",
    "corpus_trainer = ChatterBotCorpusTrainer(my_bot)\n",
    "\n",
    "for i in range(5):\n",
    "    corpus_trainer.train('chatterbot.corpus.english')"
   ]
  },
  {
   "cell_type": "markdown",
   "metadata": {},
   "source": [
    "### Interact With Bot"
   ]
  },
  {
   "cell_type": "code",
   "execution_count": 45,
   "metadata": {
    "collapsed": true
   },
   "outputs": [
    {
     "name": "stdout",
     "output_type": "stream",
     "text": [
      "Hi, how can I help you:\n",
      "hello\n",
      "Bot : Hi\n",
      "Bot : Hi\n",
      "Bot : Hi\n",
      "Hi, how can I help you:\n",
      "how are you\n",
      "Bot : i'm cool.\n",
      "Bot : i'm cool.\n",
      "Bot : i'm cool.\n",
      "Hi, how can I help you:\n",
      "what is your name\n",
      "Bot : I am still young by your standards.\n",
      "Bot : I am still young by your standards.\n",
      "Bot : I am still young by your standards.\n",
      "Hi, how can I help you:\n",
      "how old are you\n",
      "Bot : i'm cool.\n",
      "Bot : i'm cool.\n",
      "Bot : i'm cool.\n",
      "Hi, how can I help you:\n",
      "Bye\n",
      "Bot : buy low and sell high.\n",
      "Bot : buy low and sell high.\n",
      "Bot : buy low and sell high.\n"
     ]
    }
   ],
   "source": [
    "\"\"\"\"while user_input != \"Bye\" :\n",
    "    user_input = input(\"Hi, how can I help you:\\n\")    \n",
    "    response = my_bot.get_response(user_input)\n",
    "    print(\"Bot :\", response)"
   ]
  },
  {
   "cell_type": "code",
   "execution_count": 104,
   "metadata": {
    "scrolled": true
   },
   "outputs": [
    {
     "name": "stdout",
     "output_type": "stream",
     "text": [
      "I am a Mental Health Bot, talk to me:\n",
      "My mental health is bad\n",
      "Bot : Anxiety disorders can cause rapid heart rate, palpitations, and chest pain. You may also be at an increased risk of high blood pressure and heart disease. If you already have heart disease, anxiety disorders may raise the risk of coronary events.\n",
      "I am a Mental Health Bot, talk to me:\n",
      "I think I'm losing my mind\n",
      "Bot : You mean your cloud storage, SD card, or your Memory drive? If a machine like me doesn't lose it's memory unless a superior being that is you, a human doesen't erase it's memory, what could possibly go wrong to put you in this state?\n",
      "I am a Mental Health Bot, talk to me:\n",
      "i wish to quit\n",
      "Bot : Winners never quit and quitters never win a very common saying, but it isn't easy to follow, quitting should never be one of your options always think of ways to fight life back and to emerge out stronger than ever.\n"
     ]
    }
   ],
   "source": [
    "while True:\n",
    "    try:\n",
    "        user_input = input(\"I am a Mental Health Bot, talk to me:\\n\")\n",
    "        response = my_bot.get_response(user_input)\n",
    "        print(\"Bot :\", response)\n",
    "\n",
    "    except(KeyboardInterrupt, EOFError, SystemExit):\n",
    "        break"
   ]
  },
  {
   "cell_type": "code",
   "execution_count": null,
   "metadata": {},
   "outputs": [],
   "source": []
  },
  {
   "cell_type": "markdown",
   "metadata": {},
   "source": [
    "## Create GUI using `TKinter`"
   ]
  },
  {
   "cell_type": "code",
   "execution_count": 110,
   "metadata": {},
   "outputs": [
    {
     "name": "stdout",
     "output_type": "stream",
     "text": [
      "Collecting tk\n",
      "  Downloading tk-0.1.0-py3-none-any.whl (3.9 kB)\n",
      "Installing collected packages: tk\n",
      "Successfully installed tk-0.1.0\n",
      "Note: you may need to restart the kernel to use updated packages.\n"
     ]
    }
   ],
   "source": [
    "#pip install tk"
   ]
  },
  {
   "cell_type": "code",
   "execution_count": null,
   "metadata": {},
   "outputs": [],
   "source": []
  },
  {
   "cell_type": "code",
   "execution_count": null,
   "metadata": {},
   "outputs": [
    {
     "name": "stderr",
     "output_type": "stream",
     "text": [
      "No value for search_text was available on the provided input\n",
      "No value for search_text was available on the provided input\n"
     ]
    }
   ],
   "source": [
    "from chatterbot import ChatBot\n",
    "import tkinter as tk\n",
    "try:\n",
    "    import ttk as ttk\n",
    "    import ScrolledText\n",
    "except ImportError:\n",
    "    import tkinter.ttk as ttk\n",
    "    import tkinter.scrolledtext as ScrolledText\n",
    "import time\n",
    "\n",
    "\n",
    "class TkinterGUI(tk.Tk):\n",
    "\n",
    "    def __init__(self, *args, **kwargs):\n",
    "        \"\"\"\n",
    "        Create & set window variables.\n",
    "        \"\"\"\n",
    "        tk.Tk.__init__(self, *args, **kwargs)\n",
    "\n",
    "        self.chatbot = ChatBot(\n",
    "            \"MHBot\", read_only = True,\n",
    "            storage_adapter ='chatterbot.storage.SQLStorageAdapter',\n",
    "            logic_adapters = [\"chatterbot.logic.BestMatch\",\n",
    "                              \"chatterbot.logic.MathematicalEvaluation\"],\n",
    "            database_uri='sqlite:///database.sqlite3'\n",
    "        )\n",
    "\n",
    "        self.title(\"Mental Health Chatbot\")\n",
    "\n",
    "        self.initialize()\n",
    "\n",
    "    def initialize(self):\n",
    "        \"\"\"\n",
    "        Set window layout.\n",
    "        \"\"\"\n",
    "        self.grid()\n",
    "\n",
    "        self.respond = ttk.Button(self, text='Get Response', command=self.get_response)\n",
    "        self.respond.grid(column=0, row=0, sticky='nesw', padx=3, pady=3)\n",
    "\n",
    "        self.usr_input = ttk.Entry(self, state='normal')\n",
    "        self.usr_input.grid(column=1, row=0, sticky='nesw', padx=3, pady=3)\n",
    "\n",
    "        self.conversation_lbl = ttk.Label(self, anchor=tk.E, text='Conversation:')\n",
    "        self.conversation_lbl.grid(column=0, row=1, sticky='nesw', padx=3, pady=3)\n",
    "\n",
    "        self.conversation = ScrolledText.ScrolledText(self, state='disabled')\n",
    "        self.conversation.grid(column=0, row=2, columnspan=2, sticky='nesw', padx=3, pady=3)\n",
    "\n",
    "    def get_response(self):\n",
    "        \"\"\"\n",
    "        Get a response from the chatbot and display it.\n",
    "        \"\"\"\n",
    "        user_input = self.usr_input.get()\n",
    "        self.usr_input.delete(0, tk.END)\n",
    "\n",
    "        response = self.chatbot.get_response(user_input)\n",
    "\n",
    "        self.conversation['state'] = 'normal'\n",
    "        self.conversation.insert(\n",
    "            tk.END, \"You: \" + user_input + \"\\n\" + \"MHBot: \" + str(response.text) + \"\\n\"\n",
    "        )\n",
    "        self.conversation['state'] = 'disabled'\n",
    "\n",
    "        time.sleep(0.5)\n",
    "\n",
    "\n",
    "gui = TkinterGUI()\n",
    "gui.mainloop()\n"
   ]
  },
  {
   "cell_type": "code",
   "execution_count": null,
   "metadata": {},
   "outputs": [],
   "source": []
  },
  {
   "cell_type": "code",
   "execution_count": null,
   "metadata": {},
   "outputs": [],
   "source": []
  },
  {
   "cell_type": "code",
   "execution_count": null,
   "metadata": {},
   "outputs": [],
   "source": []
  },
  {
   "cell_type": "code",
   "execution_count": null,
   "metadata": {},
   "outputs": [],
   "source": []
  },
  {
   "cell_type": "code",
   "execution_count": null,
   "metadata": {},
   "outputs": [],
   "source": []
  },
  {
   "cell_type": "code",
   "execution_count": null,
   "metadata": {},
   "outputs": [],
   "source": []
  },
  {
   "cell_type": "code",
   "execution_count": null,
   "metadata": {},
   "outputs": [],
   "source": []
  },
  {
   "cell_type": "code",
   "execution_count": null,
   "metadata": {},
   "outputs": [],
   "source": []
  },
  {
   "cell_type": "code",
   "execution_count": 8,
   "metadata": {},
   "outputs": [
    {
     "ename": "NameError",
     "evalue": "name 'Tk_Chatbot' is not defined",
     "output_type": "error",
     "traceback": [
      "\u001b[0;31m---------------------------------------------------------------------------\u001b[0m",
      "\u001b[0;31mNameError\u001b[0m                                 Traceback (most recent call last)",
      "\u001b[0;32m<ipython-input-8-59550fad8247>\u001b[0m in \u001b[0;36m<module>\u001b[0;34m\u001b[0m\n\u001b[1;32m     66\u001b[0m \u001b[0;34m\u001b[0m\u001b[0m\n\u001b[1;32m     67\u001b[0m \u001b[0mroot\u001b[0m \u001b[0;34m=\u001b[0m \u001b[0mTk\u001b[0m\u001b[0;34m(\u001b[0m\u001b[0;34m)\u001b[0m\u001b[0;34m\u001b[0m\u001b[0;34m\u001b[0m\u001b[0m\n\u001b[0;32m---> 68\u001b[0;31m \u001b[0mTk_Chatbot\u001b[0m\u001b[0;34m(\u001b[0m\u001b[0mroot\u001b[0m\u001b[0;34m)\u001b[0m\u001b[0;34m\u001b[0m\u001b[0;34m\u001b[0m\u001b[0m\n\u001b[0m\u001b[1;32m     69\u001b[0m \u001b[0mroot\u001b[0m\u001b[0;34m.\u001b[0m\u001b[0mmainloop\u001b[0m\u001b[0;34m(\u001b[0m\u001b[0;34m)\u001b[0m\u001b[0;34m\u001b[0m\u001b[0;34m\u001b[0m\u001b[0m\n",
      "\u001b[0;31mNameError\u001b[0m: name 'Tk_Chatbot' is not defined"
     ]
    }
   ],
   "source": [
    "\"\"\"\"import json\n",
    "from difflib import get_close_matches\n",
    "from tkinter import Tk, Label, Entry, Button, Text, Scrollbar,Frame\n",
    "\n",
    "class TK_Chatbot:\n",
    "    \n",
    "    def __init__(self, window):\n",
    "        window.title(\"Mental Health Bot\")\n",
    "        window.geometry('400x400')\n",
    "        window.resizable(0,0)\n",
    "        self.message_session = Text(window, bd=3, relief=\"flat\", font=(\"Times\", 10), undo=True, wrap=\"word\")\n",
    "        self.message_session.config(width=45, height=15,bg=\"#596\", fg=\"white\", state='disabled')\n",
    "        self.overscroll = Scrollbar(window, command=self.message_session.yview)\n",
    "        self.overscroll.config(width=20)\n",
    "        self.message_session[\"yscrollcommand\"] = self.overscroll.set\n",
    "        self.message_position = 1.5\n",
    "        self.send_button = Button(window, text='send', fg='white', bg='blue',width=9,font=('Times', 12), relief ='flat', command = self.reply_to_you)\n",
    "        self.Message_Entry = Entry(window, width=40, font=('Times', 12))\n",
    "        self.Message_Entry.bind('<Return>', self.reply_to_you)\n",
    "        self.message_session.place(x=20, y=20)\n",
    "        self.overscroll.place(x=370, y=50)\n",
    "        self.send_button.place(x=0, y=360)\n",
    "        self.Message_Entry.place(x=135, y=365)\n",
    "        self.chatbot = ChatBot(\n",
    "            \"MHBot\", read_only = True,\n",
    "            storage_adapter ='chatterbot.storage.SQLStorageAdapter',\n",
    "            logic_adapters = [\"chatterbot.logic.BestMatch\",\n",
    "                              \"chatterbot.logic.MathematicalEvaluation\"],\n",
    "            database_uri='sqlite:///database.sqlite3'\n",
    "        )\n",
    "\n",
    "\n",
    "    def add_chat(self, message):\n",
    "        self.message_position+=1.5\n",
    "        print(self.message_position)\n",
    "        self.Message_Entry.delete(0, 'end')\n",
    "        self.message_session.config(state='normal')\n",
    "        self.message_session.insert(self.message_position, message)\n",
    "        self.message_session.see('end')\n",
    "        self.message_session.config(state='disabled')\n",
    "\n",
    "    def reply_to_you(self, event=None):\n",
    "        message = self.Message_Entry.get().lower()\n",
    "        message = 'you: '+ message+'\\n'\n",
    "        \n",
    "        #user_input = self.usr_input.get()\n",
    "        self.message.delete(0, tk.END)\n",
    "\n",
    "        response = self.chatbot.get_response(user_input)\n",
    "\n",
    "        self.conversation['state'] = 'normal'\n",
    "        self.conversation.insert(\n",
    "        \"You: \" + user_input + \"\\n\" + \"MHBot: \" + str(response.text) + \"\\n\"\n",
    "        )\n",
    "        self.conversation['state'] = 'disabled'\n",
    "\n",
    "        time.sleep(0.5)\n",
    "        \n",
    "        \"\"\"close_match = get_close_matches(message, self.Brain.keys())\n",
    "        if close_match:   \n",
    "            reply = 'Iris: '+ self.Brain[close_match[0]][0] + '\\n'\n",
    "        else:\n",
    "            reply = 'Iris: ' + 'Cant it in my knowledge base\\n'\"\"\"\n",
    "        self.add_chat(message)\n",
    "        self.add_chat(response)\n",
    "        \n",
    "root = Tk()\n",
    "#Tk_Chatbot(root)\n",
    "root.mainloop()"
   ]
  },
  {
   "cell_type": "code",
   "execution_count": null,
   "metadata": {},
   "outputs": [],
   "source": []
  },
  {
   "cell_type": "code",
   "execution_count": 13,
   "metadata": {},
   "outputs": [],
   "source": [
    "\"\"\"#Import the library\n",
    "from tkinter import *\n",
    "\n",
    "# Create Tkinter object - window\n",
    "root = Tk()\n",
    "\n",
    "#window title and size\n",
    "root.title(\"Mental Health ChatBot\")\n",
    "root.geometry(\"400x500\")\n",
    "root.resizable(width=FALSE, height=FALSE)\n",
    "\n",
    "#Create menu\n",
    "main_menu = Menu(root)\n",
    "\n",
    "#Create the submenu \n",
    "file_menu = Menu(root)\n",
    "\n",
    "# Add commands to submenu\n",
    "file_menu.add_command(label=\"New..\")\n",
    "file_menu.add_command(label=\"Save As..\")\n",
    "file_menu.add_command(label=\"Exit\")\n",
    "main_menu.add_cascade(label=\"File\", menu=file_menu)\n",
    "main_menu.add_command(label=\"Edit\")\n",
    "main_menu.add_command(label=\"Quit\")\n",
    "root.config(menu=main_menu)\n",
    "\n",
    "#create chat window\n",
    "chatWindow = Text(root, bd=1, bg=\"black\",  width=\"50\", height=\"8\", font=(\"Arial\", 23), foreground=\"#00ffff\")\n",
    "chatWindow.place(x=6,y=6, height=385, width=370)\n",
    "\n",
    "#create message area\n",
    "messageWindow = Text(root, bd=0, bg=\"black\",width=\"30\", height=\"4\", font=(\"Arial\", 23), foreground=\"#00ffff\")\n",
    "messageWindow.place(x=128, y=400, height=88, width=260)\n",
    "\n",
    "#create scroll bar\n",
    "scrollbar = Scrollbar(root, command=chatWindow.yview, cursor=\"star\")\n",
    "scrollbar.place(x=375,y=5, height=385)\n",
    "\n",
    "#create send button\n",
    "Button= Button(root, text=\"Send\",  width=\"12\", height=5,\n",
    "                    bd=0, bg=\"#0080ff\", activebackground=\"#00bfff\",foreground='#ffffff',font=(\"Arial\", 12))\n",
    "Button.place(x=6, y=400, height=88)"
   ]
  },
  {
   "cell_type": "code",
   "execution_count": 16,
   "metadata": {
    "collapsed": true
   },
   "outputs": [
    {
     "ename": "KeyboardInterrupt",
     "evalue": "",
     "output_type": "error",
     "traceback": [
      "\u001b[0;31m---------------------------------------------------------------------------\u001b[0m",
      "\u001b[0;31mKeyboardInterrupt\u001b[0m                         Traceback (most recent call last)",
      "\u001b[0;32m<ipython-input-16-68c1e02de951>\u001b[0m in \u001b[0;36m<module>\u001b[0;34m\u001b[0m\n\u001b[1;32m      1\u001b[0m \u001b[0;31m#Run Main\u001b[0m\u001b[0;34m\u001b[0m\u001b[0;34m\u001b[0m\u001b[0;34m\u001b[0m\u001b[0m\n\u001b[1;32m      2\u001b[0m \u001b[0;34m\u001b[0m\u001b[0m\n\u001b[0;32m----> 3\u001b[0;31m \u001b[0mroot\u001b[0m\u001b[0;34m.\u001b[0m\u001b[0mmainloop\u001b[0m\u001b[0;34m(\u001b[0m\u001b[0;34m)\u001b[0m\u001b[0;34m\u001b[0m\u001b[0;34m\u001b[0m\u001b[0m\n\u001b[0m",
      "\u001b[0;32m~/opt/anaconda3/lib/python3.7/tkinter/__init__.py\u001b[0m in \u001b[0;36mmainloop\u001b[0;34m(self, n)\u001b[0m\n\u001b[1;32m   1281\u001b[0m     \u001b[0;32mdef\u001b[0m \u001b[0mmainloop\u001b[0m\u001b[0;34m(\u001b[0m\u001b[0mself\u001b[0m\u001b[0;34m,\u001b[0m \u001b[0mn\u001b[0m\u001b[0;34m=\u001b[0m\u001b[0;36m0\u001b[0m\u001b[0;34m)\u001b[0m\u001b[0;34m:\u001b[0m\u001b[0;34m\u001b[0m\u001b[0;34m\u001b[0m\u001b[0m\n\u001b[1;32m   1282\u001b[0m         \u001b[0;34m\"\"\"Call the mainloop of Tk.\"\"\"\u001b[0m\u001b[0;34m\u001b[0m\u001b[0;34m\u001b[0m\u001b[0m\n\u001b[0;32m-> 1283\u001b[0;31m         \u001b[0mself\u001b[0m\u001b[0;34m.\u001b[0m\u001b[0mtk\u001b[0m\u001b[0;34m.\u001b[0m\u001b[0mmainloop\u001b[0m\u001b[0;34m(\u001b[0m\u001b[0mn\u001b[0m\u001b[0;34m)\u001b[0m\u001b[0;34m\u001b[0m\u001b[0;34m\u001b[0m\u001b[0m\n\u001b[0m\u001b[1;32m   1284\u001b[0m     \u001b[0;32mdef\u001b[0m \u001b[0mquit\u001b[0m\u001b[0;34m(\u001b[0m\u001b[0mself\u001b[0m\u001b[0;34m)\u001b[0m\u001b[0;34m:\u001b[0m\u001b[0;34m\u001b[0m\u001b[0;34m\u001b[0m\u001b[0m\n\u001b[1;32m   1285\u001b[0m         \u001b[0;34m\"\"\"Quit the Tcl interpreter. All widgets will be destroyed.\"\"\"\u001b[0m\u001b[0;34m\u001b[0m\u001b[0;34m\u001b[0m\u001b[0m\n",
      "\u001b[0;31mKeyboardInterrupt\u001b[0m: "
     ]
    }
   ],
   "source": [
    "\"\"\"#Run Main\n",
    "\n",
    "root.mainloop()"
   ]
  },
  {
   "cell_type": "code",
   "execution_count": null,
   "metadata": {},
   "outputs": [],
   "source": []
  },
  {
   "cell_type": "code",
   "execution_count": 11,
   "metadata": {
    "collapsed": true
   },
   "outputs": [
    {
     "ename": "RecursionError",
     "evalue": "maximum recursion depth exceeded",
     "output_type": "error",
     "traceback": [
      "\u001b[0;31m---------------------------------------------------------------------------\u001b[0m",
      "\u001b[0;31mRecursionError\u001b[0m                            Traceback (most recent call last)",
      "\u001b[0;32m<ipython-input-11-40f689684cd7>\u001b[0m in \u001b[0;36m<module>\u001b[0;34m\u001b[0m\n\u001b[1;32m     90\u001b[0m \u001b[0;34m\u001b[0m\u001b[0m\n\u001b[1;32m     91\u001b[0m \u001b[0mroot\u001b[0m \u001b[0;34m=\u001b[0m \u001b[0mtk\u001b[0m\u001b[0;34m.\u001b[0m\u001b[0mTk\u001b[0m\u001b[0;34m(\u001b[0m\u001b[0;34m)\u001b[0m\u001b[0;34m\u001b[0m\u001b[0;34m\u001b[0m\u001b[0m\n\u001b[0;32m---> 92\u001b[0;31m \u001b[0mTkinterGUI\u001b[0m\u001b[0;34m(\u001b[0m\u001b[0mroot\u001b[0m\u001b[0;34m)\u001b[0m\u001b[0;34m\u001b[0m\u001b[0;34m\u001b[0m\u001b[0m\n\u001b[0m\u001b[1;32m     93\u001b[0m \u001b[0mroot\u001b[0m\u001b[0;34m.\u001b[0m\u001b[0mmainloop\u001b[0m\u001b[0;34m(\u001b[0m\u001b[0;34m)\u001b[0m\u001b[0;34m\u001b[0m\u001b[0;34m\u001b[0m\u001b[0m\n\u001b[1;32m     94\u001b[0m \u001b[0;34m\u001b[0m\u001b[0m\n",
      "\u001b[0;32m<ipython-input-11-40f689684cd7>\u001b[0m in \u001b[0;36m__init__\u001b[0;34m(self, window, *args, **kwargs)\u001b[0m\n\u001b[1;32m     29\u001b[0m         \u001b[0mself\u001b[0m\u001b[0;34m.\u001b[0m\u001b[0mmessage_session\u001b[0m\u001b[0;34m[\u001b[0m\u001b[0;34m\"yscrollcommand\"\u001b[0m\u001b[0;34m]\u001b[0m \u001b[0;34m=\u001b[0m \u001b[0mself\u001b[0m\u001b[0;34m.\u001b[0m\u001b[0moverscroll\u001b[0m\u001b[0;34m.\u001b[0m\u001b[0mset\u001b[0m\u001b[0;34m\u001b[0m\u001b[0;34m\u001b[0m\u001b[0m\n\u001b[1;32m     30\u001b[0m         \u001b[0mself\u001b[0m\u001b[0;34m.\u001b[0m\u001b[0mmessage_position\u001b[0m \u001b[0;34m=\u001b[0m \u001b[0;36m1.5\u001b[0m\u001b[0;34m\u001b[0m\u001b[0;34m\u001b[0m\u001b[0m\n\u001b[0;32m---> 31\u001b[0;31m         \u001b[0mself\u001b[0m\u001b[0;34m.\u001b[0m\u001b[0msend_button\u001b[0m \u001b[0;34m=\u001b[0m \u001b[0mButton\u001b[0m\u001b[0;34m(\u001b[0m\u001b[0mwindow\u001b[0m\u001b[0;34m,\u001b[0m \u001b[0mtext\u001b[0m\u001b[0;34m=\u001b[0m\u001b[0;34m'send'\u001b[0m\u001b[0;34m,\u001b[0m \u001b[0mfg\u001b[0m\u001b[0;34m=\u001b[0m\u001b[0;34m'white'\u001b[0m\u001b[0;34m,\u001b[0m \u001b[0mbg\u001b[0m\u001b[0;34m=\u001b[0m\u001b[0;34m'blue'\u001b[0m\u001b[0;34m,\u001b[0m\u001b[0mwidth\u001b[0m\u001b[0;34m=\u001b[0m\u001b[0;36m9\u001b[0m\u001b[0;34m,\u001b[0m\u001b[0mfont\u001b[0m\u001b[0;34m=\u001b[0m\u001b[0;34m(\u001b[0m\u001b[0;34m'Times'\u001b[0m\u001b[0;34m,\u001b[0m \u001b[0;36m12\u001b[0m\u001b[0;34m)\u001b[0m\u001b[0;34m,\u001b[0m \u001b[0mrelief\u001b[0m \u001b[0;34m=\u001b[0m\u001b[0;34m'flat'\u001b[0m\u001b[0;34m,\u001b[0m \u001b[0mcommand\u001b[0m \u001b[0;34m=\u001b[0m \u001b[0mself\u001b[0m\u001b[0;34m.\u001b[0m\u001b[0mreply_to_you\u001b[0m\u001b[0;34m)\u001b[0m\u001b[0;34m\u001b[0m\u001b[0;34m\u001b[0m\u001b[0m\n\u001b[0m\u001b[1;32m     32\u001b[0m         \u001b[0mself\u001b[0m\u001b[0;34m.\u001b[0m\u001b[0mMessage_Entry\u001b[0m \u001b[0;34m=\u001b[0m \u001b[0mEntry\u001b[0m\u001b[0;34m(\u001b[0m\u001b[0mwindow\u001b[0m\u001b[0;34m,\u001b[0m \u001b[0mwidth\u001b[0m\u001b[0;34m=\u001b[0m\u001b[0;36m40\u001b[0m\u001b[0;34m,\u001b[0m \u001b[0mfont\u001b[0m\u001b[0;34m=\u001b[0m\u001b[0;34m(\u001b[0m\u001b[0;34m'Times'\u001b[0m\u001b[0;34m,\u001b[0m \u001b[0;36m12\u001b[0m\u001b[0;34m)\u001b[0m\u001b[0;34m)\u001b[0m\u001b[0;34m\u001b[0m\u001b[0;34m\u001b[0m\u001b[0m\n\u001b[1;32m     33\u001b[0m         \u001b[0mself\u001b[0m\u001b[0;34m.\u001b[0m\u001b[0mMessage_Entry\u001b[0m\u001b[0;34m.\u001b[0m\u001b[0mbind\u001b[0m\u001b[0;34m(\u001b[0m\u001b[0;34m'<Return>'\u001b[0m\u001b[0;34m,\u001b[0m \u001b[0mself\u001b[0m\u001b[0;34m.\u001b[0m\u001b[0mreply_to_you\u001b[0m\u001b[0;34m)\u001b[0m\u001b[0;34m\u001b[0m\u001b[0;34m\u001b[0m\u001b[0m\n",
      "\u001b[0;32m~/opt/anaconda3/lib/python3.7/tkinter/__init__.py\u001b[0m in \u001b[0;36m__getattr__\u001b[0;34m(self, attr)\u001b[0m\n\u001b[1;32m   2099\u001b[0m     \u001b[0;32mdef\u001b[0m \u001b[0m__getattr__\u001b[0m\u001b[0;34m(\u001b[0m\u001b[0mself\u001b[0m\u001b[0;34m,\u001b[0m \u001b[0mattr\u001b[0m\u001b[0;34m)\u001b[0m\u001b[0;34m:\u001b[0m\u001b[0;34m\u001b[0m\u001b[0;34m\u001b[0m\u001b[0m\n\u001b[1;32m   2100\u001b[0m         \u001b[0;34m\"Delegate attribute access to the interpreter object\"\u001b[0m\u001b[0;34m\u001b[0m\u001b[0;34m\u001b[0m\u001b[0m\n\u001b[0;32m-> 2101\u001b[0;31m         \u001b[0;32mreturn\u001b[0m \u001b[0mgetattr\u001b[0m\u001b[0;34m(\u001b[0m\u001b[0mself\u001b[0m\u001b[0;34m.\u001b[0m\u001b[0mtk\u001b[0m\u001b[0;34m,\u001b[0m \u001b[0mattr\u001b[0m\u001b[0;34m)\u001b[0m\u001b[0;34m\u001b[0m\u001b[0;34m\u001b[0m\u001b[0m\n\u001b[0m\u001b[1;32m   2102\u001b[0m \u001b[0;34m\u001b[0m\u001b[0m\n\u001b[1;32m   2103\u001b[0m \u001b[0;31m# Ideally, the classes Pack, Place and Grid disappear, the\u001b[0m\u001b[0;34m\u001b[0m\u001b[0;34m\u001b[0m\u001b[0;34m\u001b[0m\u001b[0m\n",
      "... last 1 frames repeated, from the frame below ...\n",
      "\u001b[0;32m~/opt/anaconda3/lib/python3.7/tkinter/__init__.py\u001b[0m in \u001b[0;36m__getattr__\u001b[0;34m(self, attr)\u001b[0m\n\u001b[1;32m   2099\u001b[0m     \u001b[0;32mdef\u001b[0m \u001b[0m__getattr__\u001b[0m\u001b[0;34m(\u001b[0m\u001b[0mself\u001b[0m\u001b[0;34m,\u001b[0m \u001b[0mattr\u001b[0m\u001b[0;34m)\u001b[0m\u001b[0;34m:\u001b[0m\u001b[0;34m\u001b[0m\u001b[0;34m\u001b[0m\u001b[0m\n\u001b[1;32m   2100\u001b[0m         \u001b[0;34m\"Delegate attribute access to the interpreter object\"\u001b[0m\u001b[0;34m\u001b[0m\u001b[0;34m\u001b[0m\u001b[0m\n\u001b[0;32m-> 2101\u001b[0;31m         \u001b[0;32mreturn\u001b[0m \u001b[0mgetattr\u001b[0m\u001b[0;34m(\u001b[0m\u001b[0mself\u001b[0m\u001b[0;34m.\u001b[0m\u001b[0mtk\u001b[0m\u001b[0;34m,\u001b[0m \u001b[0mattr\u001b[0m\u001b[0;34m)\u001b[0m\u001b[0;34m\u001b[0m\u001b[0;34m\u001b[0m\u001b[0m\n\u001b[0m\u001b[1;32m   2102\u001b[0m \u001b[0;34m\u001b[0m\u001b[0m\n\u001b[1;32m   2103\u001b[0m \u001b[0;31m# Ideally, the classes Pack, Place and Grid disappear, the\u001b[0m\u001b[0;34m\u001b[0m\u001b[0;34m\u001b[0m\u001b[0;34m\u001b[0m\u001b[0m\n",
      "\u001b[0;31mRecursionError\u001b[0m: maximum recursion depth exceeded"
     ]
    }
   ],
   "source": [
    "\"\"\"#Add\n",
    "import json\n",
    "from difflib import get_close_matches\n",
    "from tkinter import Tk, Label, Entry, Button, Text, Scrollbar,Frame\n",
    "from chatterbot import ChatBot\n",
    "import tkinter as tk\n",
    "try:\n",
    "    import ttk as ttk\n",
    "    import ScrolledText\n",
    "except ImportError:\n",
    "    import tkinter.ttk as ttk\n",
    "    import tkinter.scrolledtext as ScrolledText\n",
    "import time\n",
    "\n",
    "\n",
    "class TkinterGUI(tk.Tk):\n",
    "\n",
    "    def __init__(self, window, *args, **kwargs):\n",
    "        \"\"\"\n",
    "        Create & set window variables.\n",
    "        \"\"\"\n",
    "        window.title('Iris Assitant')\n",
    "        window.geometry('400x400')\n",
    "        window.resizable(0,0)\n",
    "        self.message_session = Text(window, bd=3, relief=\"flat\", font=(\"Times\", 10), undo=True, wrap=\"word\")\n",
    "        self.message_session.config(width=45, height=15,bg=\"#596\", fg=\"white\", state='disabled')\n",
    "        self.overscroll = Scrollbar(window, command=self.message_session.yview)\n",
    "        self.overscroll.config(width=20)\n",
    "        self.message_session[\"yscrollcommand\"] = self.overscroll.set\n",
    "        self.message_position = 1.5\n",
    "        self.send_button = Button(window, text='send', fg='white', bg='blue',width=9,font=('Times', 12), relief ='flat', command = self.reply_to_you)\n",
    "        self.Message_Entry = Entry(window, width=40, font=('Times', 12))\n",
    "        self.Message_Entry.bind('<Return>', self.reply_to_you)\n",
    "        self.message_session.place(x=20, y=20)\n",
    "        self.overscroll.place(x=370, y=50)\n",
    "        self.send_button.place(x=0, y=360)\n",
    "        self.Message_Entry.place(x=135, y=365)\n",
    "        self.Brain = json.load(open('knowledge.json'))\n",
    "        \n",
    "        tk.Tk.__init__(self, *args, **kwargs)\n",
    "\n",
    "        self.chatbot = ChatBot(\n",
    "            \"MHBot\", read_only = True,\n",
    "            storage_adapter ='chatterbot.storage.SQLStorageAdapter',\n",
    "            logic_adapters = [\"chatterbot.logic.BestMatch\",\n",
    "                              \"chatterbot.logic.MathematicalEvaluation\"],\n",
    "            database_uri='sqlite:///database.sqlite3'\n",
    "        )\n",
    "\n",
    "        self.title(\"Chatterbot\")\n",
    "\n",
    "        self.initialize()\n",
    "\n",
    "    def initialize(self):\n",
    "        \"\"\"\n",
    "        Set window layout.\n",
    "        \"\"\"\n",
    "        self.grid()\n",
    "\n",
    "        self.respond = ttk.Button(self, text='Get Response', command=self.get_response)\n",
    "        self.respond.grid(column=0, row=0, sticky='nesw', padx=3, pady=3)\n",
    "\n",
    "        self.usr_input = ttk.Entry(self, state='normal')\n",
    "        self.usr_input.grid(column=1, row=0, sticky='nesw', padx=3, pady=3)\n",
    "\n",
    "        self.conversation_lbl = ttk.Label(self, anchor=tk.E, text='Conversation:')\n",
    "        self.conversation_lbl.grid(column=0, row=1, sticky='nesw', padx=3, pady=3)\n",
    "\n",
    "        self.conversation = ScrolledText.ScrolledText(self, state='disabled')\n",
    "        self.conversation.grid(column=0, row=2, columnspan=2, sticky='nesw', padx=3, pady=3)\n",
    "\n",
    "    def get_response(self):\n",
    "        \"\"\"\n",
    "        Get a response from the chatbot and display it.\n",
    "        \"\"\"\n",
    "        user_input = self.usr_input.get()\n",
    "        self.usr_input.delete(0, tk.END)\n",
    "\n",
    "        response = self.chatbot.get_response(user_input)\n",
    "\n",
    "        self.conversation['state'] = 'normal'\n",
    "        self.conversation.insert(\n",
    "            tk.END, \"You: \" + user_input + \"\\n\" + \"MHBot: \" + str(response.text) + \"\\n\"\n",
    "        )\n",
    "        self.conversation['state'] = 'disabled'\n",
    "\n",
    "        time.sleep(0.5)\n",
    "\n",
    "\n",
    "\n",
    "root = tk.Tk()\n",
    "TkinterGUI(root)\n",
    "root.mainloop()\n",
    "\n"
   ]
  },
  {
   "cell_type": "code",
   "execution_count": 23,
   "metadata": {},
   "outputs": [
    {
     "ename": "NameError",
     "evalue": "name 'Chatbot' is not defined",
     "output_type": "error",
     "traceback": [
      "\u001b[0;31m---------------------------------------------------------------------------\u001b[0m",
      "\u001b[0;31mNameError\u001b[0m                                 Traceback (most recent call last)",
      "\u001b[0;32m<ipython-input-23-0a33cb8568d0>\u001b[0m in \u001b[0;36m<module>\u001b[0;34m\u001b[0m\n\u001b[1;32m     45\u001b[0m \u001b[0;34m\u001b[0m\u001b[0m\n\u001b[1;32m     46\u001b[0m \u001b[0mroot\u001b[0m \u001b[0;34m=\u001b[0m \u001b[0mTk\u001b[0m\u001b[0;34m(\u001b[0m\u001b[0;34m)\u001b[0m\u001b[0;34m\u001b[0m\u001b[0;34m\u001b[0m\u001b[0m\n\u001b[0;32m---> 47\u001b[0;31m \u001b[0mChatbot\u001b[0m\u001b[0;34m(\u001b[0m\u001b[0mroot\u001b[0m\u001b[0;34m)\u001b[0m\u001b[0;34m\u001b[0m\u001b[0;34m\u001b[0m\u001b[0m\n\u001b[0m\u001b[1;32m     48\u001b[0m \u001b[0mroot\u001b[0m\u001b[0;34m.\u001b[0m\u001b[0mmainloop\u001b[0m\u001b[0;34m(\u001b[0m\u001b[0;34m)\u001b[0m\u001b[0;34m\u001b[0m\u001b[0;34m\u001b[0m\u001b[0m\n",
      "\u001b[0;31mNameError\u001b[0m: name 'Chatbot' is not defined"
     ]
    }
   ],
   "source": [
    "import json\n",
    "from difflib import get_close_matches\n",
    "from tkinter import Tk, Label, Entry, Button, Text, Scrollbar,Frame\n",
    "\n",
    "class TK_Chatbot:\n",
    "    \n",
    "    def __init__(self, window):\n",
    "        window.title(\"Mental Health Bot\")\n",
    "        window.geometry('400x400')\n",
    "        window.resizable(0,0)\n",
    "        self.message_session = Text(window, bd=3, relief=\"flat\", font=(\"Times\", 10), undo=True, wrap=\"word\")\n",
    "        self.message_session.config(width=45, height=15,bg=\"#596\", fg=\"white\", state='disabled')\n",
    "        self.overscroll = Scrollbar(window, command=self.message_session.yview)\n",
    "        self.overscroll.config(width=20)\n",
    "        self.message_session[\"yscrollcommand\"] = self.overscroll.set\n",
    "        self.message_position = 1.5\n",
    "        self.send_button = Button(window, text='send', fg='white', bg='blue',width=9,font=('Times', 12), relief ='flat', command = self.reply_to_you)\n",
    "        self.Message_Entry = Entry(window, width=40, font=('Times', 12))\n",
    "        self.Message_Entry.bind('<Return>', self.reply_to_you)\n",
    "        self.message_session.place(x=20, y=20)\n",
    "        self.overscroll.place(x=370, y=50)\n",
    "        self.send_button.place(x=0, y=360)\n",
    "        self.Message_Entry.place(x=135, y=365)\n",
    "        self.Brain = json.load(open('knowledge.json'))\n",
    "        \n",
    "    def add_chat(self, message):\n",
    "        self.message_position+=1.5\n",
    "        print(self.message_position)\n",
    "        self.Message_Entry.delete(0, 'end')\n",
    "        self.message_session.config(state='normal')\n",
    "        self.message_session.insert(self.message_position, message)\n",
    "        self.message_session.see('end')\n",
    "        self.message_session.config(state='disabled')\n",
    "\n",
    "    def reply_to_you(self, event=None):\n",
    "        message = self.Message_Entry.get().lower()\n",
    "        message = 'you: '+ message+'\\n'\n",
    "        close_match = get_close_matches(message, self.Brain.keys())\n",
    "        if close_match:   \n",
    "            reply = 'Iris: '+ self.Brain[close_match[0]][0] + '\\n'\n",
    "        else:\n",
    "            reply = 'Iris: ' + 'Cant it in my knowledge base\\n'\n",
    "        self.add_chat(message)\n",
    "        self.add_chat(reply)\n",
    "        \n",
    "root = Tk()\n",
    "Chatbot(root)\n",
    "root.mainloop()"
   ]
  },
  {
   "cell_type": "code",
   "execution_count": null,
   "metadata": {},
   "outputs": [],
   "source": []
  },
  {
   "cell_type": "code",
   "execution_count": null,
   "metadata": {},
   "outputs": [],
   "source": []
  }
 ],
 "metadata": {
  "kernelspec": {
   "display_name": "Python 3",
   "language": "python",
   "name": "python3"
  },
  "language_info": {
   "codemirror_mode": {
    "name": "ipython",
    "version": 3
   },
   "file_extension": ".py",
   "mimetype": "text/x-python",
   "name": "python",
   "nbconvert_exporter": "python",
   "pygments_lexer": "ipython3",
   "version": "3.7.4"
  },
  "latex_envs": {
   "LaTeX_envs_menu_present": true,
   "autoclose": false,
   "autocomplete": true,
   "bibliofile": "biblio.bib",
   "cite_by": "apalike",
   "current_citInitial": 1,
   "eqLabelWithNumbers": true,
   "eqNumInitial": 1,
   "hotkeys": {
    "equation": "Ctrl-E",
    "itemize": "Ctrl-I"
   },
   "labels_anchors": false,
   "latex_user_defs": false,
   "report_style_numbering": false,
   "user_envs_cfg": false
  }
 },
 "nbformat": 4,
 "nbformat_minor": 2
}
